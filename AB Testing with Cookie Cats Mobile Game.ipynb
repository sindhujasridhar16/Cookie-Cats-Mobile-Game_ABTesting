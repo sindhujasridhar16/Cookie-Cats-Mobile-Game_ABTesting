{
 "cells": [
  {
   "cell_type": "markdown",
   "metadata": {
    "pycharm": {
     "name": "#%% md\n"
    }
   },
   "source": [
    "## Importing Libraries"
   ]
  },
  {
   "cell_type": "code",
   "execution_count": 1,
   "metadata": {
    "pycharm": {
     "name": "#%%\n"
    }
   },
   "outputs": [],
   "source": [
    "import numpy as np\n",
    "import pandas as pd\n",
    "import seaborn as sns\n",
    "import matplotlib.pyplot as plt\n",
    "import os\n",
    "\n",
    "# Hypothesis Testing\n",
    "# -----------------------------------\n",
    "from scipy.stats import shapiro\n",
    "import scipy.stats as stats\n",
    "\n",
    "# Configuration\n",
    "# -----------------------------------\n",
    "import warnings\n",
    "warnings.filterwarnings(\"ignore\")\n",
    "warnings.simplefilter(action='ignore', category=FutureWarning)\n",
    "\n",
    "pd.set_option('display.max_columns', None)\n",
    "pd.options.display.float_format = '{:.4f}'.format"
   ]
  },
  {
   "cell_type": "markdown",
   "metadata": {
    "pycharm": {
     "name": "#%% md\n"
    }
   },
   "source": [
    "## Importing Data"
   ]
  },
  {
   "cell_type": "code",
   "execution_count": 4,
   "metadata": {
    "pycharm": {
     "name": "#%%\n"
    }
   },
   "outputs": [
    {
     "data": {
      "text/html": [
       "<div>\n",
       "<style scoped>\n",
       "    .dataframe tbody tr th:only-of-type {\n",
       "        vertical-align: middle;\n",
       "    }\n",
       "\n",
       "    .dataframe tbody tr th {\n",
       "        vertical-align: top;\n",
       "    }\n",
       "\n",
       "    .dataframe thead th {\n",
       "        text-align: right;\n",
       "    }\n",
       "</style>\n",
       "<table border=\"1\" class=\"dataframe\">\n",
       "  <thead>\n",
       "    <tr style=\"text-align: right;\">\n",
       "      <th></th>\n",
       "      <th>userid</th>\n",
       "      <th>version</th>\n",
       "      <th>sum_gamerounds</th>\n",
       "      <th>retention_1</th>\n",
       "      <th>retention_7</th>\n",
       "    </tr>\n",
       "  </thead>\n",
       "  <tbody>\n",
       "    <tr>\n",
       "      <td>0</td>\n",
       "      <td>116</td>\n",
       "      <td>gate_30</td>\n",
       "      <td>3</td>\n",
       "      <td>False</td>\n",
       "      <td>False</td>\n",
       "    </tr>\n",
       "    <tr>\n",
       "      <td>1</td>\n",
       "      <td>337</td>\n",
       "      <td>gate_30</td>\n",
       "      <td>38</td>\n",
       "      <td>True</td>\n",
       "      <td>False</td>\n",
       "    </tr>\n",
       "    <tr>\n",
       "      <td>2</td>\n",
       "      <td>377</td>\n",
       "      <td>gate_40</td>\n",
       "      <td>165</td>\n",
       "      <td>True</td>\n",
       "      <td>False</td>\n",
       "    </tr>\n",
       "    <tr>\n",
       "      <td>3</td>\n",
       "      <td>483</td>\n",
       "      <td>gate_40</td>\n",
       "      <td>1</td>\n",
       "      <td>False</td>\n",
       "      <td>False</td>\n",
       "    </tr>\n",
       "    <tr>\n",
       "      <td>4</td>\n",
       "      <td>488</td>\n",
       "      <td>gate_40</td>\n",
       "      <td>179</td>\n",
       "      <td>True</td>\n",
       "      <td>True</td>\n",
       "    </tr>\n",
       "  </tbody>\n",
       "</table>\n",
       "</div>"
      ],
      "text/plain": [
       "   userid  version  sum_gamerounds  retention_1  retention_7\n",
       "0     116  gate_30               3        False        False\n",
       "1     337  gate_30              38         True        False\n",
       "2     377  gate_40             165         True        False\n",
       "3     483  gate_40               1        False        False\n",
       "4     488  gate_40             179         True         True"
      ]
     },
     "execution_count": 4,
     "metadata": {},
     "output_type": "execute_result"
    }
   ],
   "source": [
    "# Reading in the data\n",
    "df_cookie = pd.read_csv('C:/Users/subhi/Downloads/cookie_cats.csv/cookie_cats.csv')\n",
    "\n",
    "# Showing the first few rows\n",
    "df_cookie.head()"
   ]
  },
  {
   "cell_type": "code",
   "execution_count": 5,
   "metadata": {
    "pycharm": {
     "name": "#%%\n"
    }
   },
   "outputs": [
    {
     "name": "stdout",
     "output_type": "stream",
     "text": [
      "True\n"
     ]
    },
    {
     "data": {
      "text/html": [
       "<div>\n",
       "<style scoped>\n",
       "    .dataframe tbody tr th:only-of-type {\n",
       "        vertical-align: middle;\n",
       "    }\n",
       "\n",
       "    .dataframe tbody tr th {\n",
       "        vertical-align: top;\n",
       "    }\n",
       "\n",
       "    .dataframe thead th {\n",
       "        text-align: right;\n",
       "    }\n",
       "</style>\n",
       "<table border=\"1\" class=\"dataframe\">\n",
       "  <thead>\n",
       "    <tr style=\"text-align: right;\">\n",
       "      <th></th>\n",
       "      <th>count</th>\n",
       "      <th>mean</th>\n",
       "      <th>std</th>\n",
       "      <th>min</th>\n",
       "      <th>1%</th>\n",
       "      <th>5%</th>\n",
       "      <th>10%</th>\n",
       "      <th>20%</th>\n",
       "      <th>50%</th>\n",
       "      <th>80%</th>\n",
       "      <th>90%</th>\n",
       "      <th>95%</th>\n",
       "      <th>99%</th>\n",
       "      <th>max</th>\n",
       "    </tr>\n",
       "  </thead>\n",
       "  <tbody>\n",
       "    <tr>\n",
       "      <td>sum_gamerounds</td>\n",
       "      <td>90189.0000</td>\n",
       "      <td>51.8725</td>\n",
       "      <td>195.0509</td>\n",
       "      <td>0.0000</td>\n",
       "      <td>0.0000</td>\n",
       "      <td>1.0000</td>\n",
       "      <td>1.0000</td>\n",
       "      <td>3.0000</td>\n",
       "      <td>16.0000</td>\n",
       "      <td>67.0000</td>\n",
       "      <td>134.0000</td>\n",
       "      <td>221.0000</td>\n",
       "      <td>493.0000</td>\n",
       "      <td>49854.0000</td>\n",
       "    </tr>\n",
       "  </tbody>\n",
       "</table>\n",
       "</div>"
      ],
      "text/plain": [
       "                    count    mean      std    min     1%     5%    10%    20%  \\\n",
       "sum_gamerounds 90189.0000 51.8725 195.0509 0.0000 0.0000 1.0000 1.0000 3.0000   \n",
       "\n",
       "                   50%     80%      90%      95%      99%        max  \n",
       "sum_gamerounds 16.0000 67.0000 134.0000 221.0000 493.0000 49854.0000  "
      ]
     },
     "execution_count": 5,
     "metadata": {},
     "output_type": "execute_result"
    }
   ],
   "source": [
    "# Number of Unique User\n",
    "print(df_cookie.userid.nunique() == df_cookie.shape[0])\n",
    "# Summary Stats: sum_gamerounds\n",
    "df_cookie.describe([0.01, 0.05, 0.10, 0.20, 0.80, 0.90, 0.95, 0.99])[[\"sum_gamerounds\"]].T"
   ]
  },
  {
   "cell_type": "code",
   "execution_count": 6,
   "metadata": {
    "pycharm": {
     "name": "#%%\n"
    }
   },
   "outputs": [
    {
     "data": {
      "text/html": [
       "<div>\n",
       "<style scoped>\n",
       "    .dataframe tbody tr th:only-of-type {\n",
       "        vertical-align: middle;\n",
       "    }\n",
       "\n",
       "    .dataframe tbody tr th {\n",
       "        vertical-align: top;\n",
       "    }\n",
       "\n",
       "    .dataframe thead th {\n",
       "        text-align: right;\n",
       "    }\n",
       "</style>\n",
       "<table border=\"1\" class=\"dataframe\">\n",
       "  <thead>\n",
       "    <tr style=\"text-align: right;\">\n",
       "      <th></th>\n",
       "      <th>count</th>\n",
       "      <th>median</th>\n",
       "      <th>mean</th>\n",
       "      <th>std</th>\n",
       "      <th>max</th>\n",
       "    </tr>\n",
       "    <tr>\n",
       "      <th>version</th>\n",
       "      <th></th>\n",
       "      <th></th>\n",
       "      <th></th>\n",
       "      <th></th>\n",
       "      <th></th>\n",
       "    </tr>\n",
       "  </thead>\n",
       "  <tbody>\n",
       "    <tr>\n",
       "      <td>gate_30</td>\n",
       "      <td>44700</td>\n",
       "      <td>17</td>\n",
       "      <td>52.4563</td>\n",
       "      <td>256.7164</td>\n",
       "      <td>49854</td>\n",
       "    </tr>\n",
       "    <tr>\n",
       "      <td>gate_40</td>\n",
       "      <td>45489</td>\n",
       "      <td>16</td>\n",
       "      <td>51.2988</td>\n",
       "      <td>103.2944</td>\n",
       "      <td>2640</td>\n",
       "    </tr>\n",
       "  </tbody>\n",
       "</table>\n",
       "</div>"
      ],
      "text/plain": [
       "         count  median    mean      std    max\n",
       "version                                       \n",
       "gate_30  44700      17 52.4563 256.7164  49854\n",
       "gate_40  45489      16 51.2988 103.2944   2640"
      ]
     },
     "execution_count": 6,
     "metadata": {},
     "output_type": "execute_result"
    }
   ],
   "source": [
    "# Summarize the sum_gamerounds column by version\n",
    "df_cookie.groupby(\"version\").sum_gamerounds.agg([\"count\", \"median\", \"mean\", \"std\", \"max\"])"
   ]
  },
  {
   "cell_type": "code",
   "execution_count": 7,
   "metadata": {
    "pycharm": {
     "name": "#%%\n"
    }
   },
   "outputs": [
    {
     "data": {
      "image/png": "[encoded data removed]",
      "text/plain": [
       "<Figure size 1296x360 with 3 Axes>"
      ]
     },
     "metadata": {
      "needs_background": "light"
     },
     "output_type": "display_data"
    }
   ],
   "source": [
    "# Create a figure with three subplots\n",
    "fig, axes = plt.subplots(1, 3, figsize=(18, 5))\n",
    "\n",
    "# Plot the distribution of Gate 30\n",
    "df_cookie[(df_cookie['version'] == 'gate_30')].hist('sum_gamerounds', ax=axes[0], color='steelblue')\n",
    "\n",
    "# Plot the distribution of Gate 40\n",
    "df_cookie[(df_cookie['version'] == 'gate_40')].hist('sum_gamerounds', ax=axes[1], color='steelblue')\n",
    "\n",
    "# Create a boxplot of the two groups\n",
    "sns.boxplot(x='version', y='sum_gamerounds', data=df_cookie, ax=axes[2])\n",
    "\n",
    "# Add titles to the plots\n",
    "plt.suptitle('Before Removing The Extreme Value', fontsize=20)\n",
    "axes[0].set_title('Distribution of Gate 30 (A)', fontsize=15)\n",
    "axes[1].set_title('Distribution of Gate 40 (B)', fontsize=15)\n",
    "axes[2].set_title('Distribution of Two Groups', fontsize=15)\n",
    "\n",
    "# Tighten the layout of the figure\n",
    "plt.tight_layout(pad=4)\n",
    "\n",
    "# Display the plot\n",
    "plt.show()"
   ]
  },
  {
   "cell_type": "markdown",
   "metadata": {
    "pycharm": {
     "name": "#%% md\n"
    }
   },
   "source": [
    "Summary of the plot:\n",
    "* The distribution of the sum_gamerounds column for the Gate 30 version is skewed to the right, with a median of 20 and a maximum of 113,000.\n",
    "* The distribution of the sum_gamerounds column for the Gate 40 version is also skewed to the right, with a median of 30 and a maximum of 50,000.\n",
    "* The boxplot shows that the median sum_gamerounds value for the Gate 40 version is higher than the median sum_gamerounds value for the Gate 30 version.\n",
    "* The boxplot also shows that the Gate 40 version has a wider interquartile range than the Gate 30 version, which means that there is more variation in the number of gamerounds played by users in the Gate 40 version.\n",
    "* The boxplot also shows that there is an extreme outlier in the Gate 30 distribution. This outlier could be due to a user who played an unusually large number of gamerounds. It is important to consider whether or not to remove this outlier from the analysis, depending on the specific research question being asked.\n",
    "* Since the two distributions are skewed to the right. This means that there are more users who play a small number of gamerounds than users who play a large number of gamerounds. This is a common pattern in video game data.\n",
    "\n",
    "Conclusion:\n",
    "The results suggest that users in the Gate 40 version of the game play more gamerounds on average than users in the Gate 30 version of the game. However, the results also suggest that there is more variation in the number of gamerounds played by users in the Gate 40 version."
   ]
  },
  {
   "cell_type": "code",
   "execution_count": 8,
   "metadata": {
    "pycharm": {
     "name": "#%%\n"
    }
   },
   "outputs": [
    {
     "data": {
      "image/png": "[encoded data removed]",
      "text/plain": [
       "<Figure size 1440x360 with 1 Axes>"
      ]
     },
     "metadata": {
      "needs_background": "light"
     },
     "output_type": "display_data"
    }
   ],
   "source": [
    "# Plot the sum_gamerounds of each version\n",
    "df_cookie[df_cookie['version'] == 'gate_30'].reset_index().set_index(\"index\").sum_gamerounds.plot(legend=True, label=\"Gate 30\", figsize=(20, 5))\n",
    "df_cookie[df_cookie['version'] == 'gate_40'].reset_index().set_index(\"index\").sum_gamerounds.plot(legend=True, label=\"Gate 40\")\n",
    "\n",
    "# Add a title to the plot\n",
    "plt.suptitle('Before Removing The Extreme Value', fontsize=20)\n",
    "\n",
    "# Display the plot\n",
    "plt.show()"
   ]
  },
  {
   "cell_type": "markdown",
   "metadata": {
    "pycharm": {
     "name": "#%% md\n"
    }
   },
   "source": [
    "The image shows a plot of the sum_gamerounds column for the two versions of the game, before removing the extreme value. The plot shows that the Gate 40 version has a higher overall sum_gamerounds than the Gate 30 version. However, there is a lot of overlap between the two distributions, which means that there are some users in the Gate 30 version who played more gamerounds than some users in the Gate 40 version."
   ]
  },
  {
   "cell_type": "code",
   "execution_count": 9,
   "metadata": {
    "pycharm": {
     "name": "#%%\n"
    }
   },
   "outputs": [
    {
     "data": {
      "text/html": [
       "<div>\n",
       "<style scoped>\n",
       "    .dataframe tbody tr th:only-of-type {\n",
       "        vertical-align: middle;\n",
       "    }\n",
       "\n",
       "    .dataframe tbody tr th {\n",
       "        vertical-align: top;\n",
       "    }\n",
       "\n",
       "    .dataframe thead th {\n",
       "        text-align: right;\n",
       "    }\n",
       "</style>\n",
       "<table border=\"1\" class=\"dataframe\">\n",
       "  <thead>\n",
       "    <tr style=\"text-align: right;\">\n",
       "      <th></th>\n",
       "      <th>count</th>\n",
       "      <th>mean</th>\n",
       "      <th>std</th>\n",
       "      <th>min</th>\n",
       "      <th>1%</th>\n",
       "      <th>5%</th>\n",
       "      <th>10%</th>\n",
       "      <th>20%</th>\n",
       "      <th>50%</th>\n",
       "      <th>80%</th>\n",
       "      <th>90%</th>\n",
       "      <th>95%</th>\n",
       "      <th>99%</th>\n",
       "      <th>max</th>\n",
       "    </tr>\n",
       "  </thead>\n",
       "  <tbody>\n",
       "    <tr>\n",
       "      <td>sum_gamerounds</td>\n",
       "      <td>90188.0000</td>\n",
       "      <td>51.3203</td>\n",
       "      <td>102.6827</td>\n",
       "      <td>0.0000</td>\n",
       "      <td>0.0000</td>\n",
       "      <td>1.0000</td>\n",
       "      <td>1.0000</td>\n",
       "      <td>3.0000</td>\n",
       "      <td>16.0000</td>\n",
       "      <td>67.0000</td>\n",
       "      <td>134.0000</td>\n",
       "      <td>221.0000</td>\n",
       "      <td>493.0000</td>\n",
       "      <td>2961.0000</td>\n",
       "    </tr>\n",
       "  </tbody>\n",
       "</table>\n",
       "</div>"
      ],
      "text/plain": [
       "                    count    mean      std    min     1%     5%    10%    20%  \\\n",
       "sum_gamerounds 90188.0000 51.3203 102.6827 0.0000 0.0000 1.0000 1.0000 3.0000   \n",
       "\n",
       "                   50%     80%      90%      95%      99%       max  \n",
       "sum_gamerounds 16.0000 67.0000 134.0000 221.0000 493.0000 2961.0000  "
      ]
     },
     "execution_count": 9,
     "metadata": {},
     "output_type": "execute_result"
    }
   ],
   "source": [
    "# Remove the extreme value\n",
    "df_cookie = df_cookie[df_cookie.sum_gamerounds < df_cookie.sum_gamerounds.max()]\n",
    "\n",
    "# Calculate summary statistics for sum_gamerounds\n",
    "df_cookie.describe([0.01, 0.05, 0.10, 0.20, 0.80, 0.90, 0.95, 0.99])[[\"sum_gamerounds\"]].T\n"
   ]
  },
  {
   "cell_type": "code",
   "execution_count": 10,
   "metadata": {
    "pycharm": {
     "name": "#%%\n"
    }
   },
   "outputs": [
    {
     "data": {
      "image/png": "[encoded data removed]",
      "text/plain": [
       "<Figure size 1296x360 with 4 Axes>"
      ]
     },
     "metadata": {
      "needs_background": "light"
     },
     "output_type": "display_data"
    }
   ],
   "source": [
    "# Create a figure with four subplots\n",
    "fig, axes = plt.subplots(1, 4, figsize=(18, 5))\n",
    "# Plot the distribution of total game rounds\n",
    "df_cookie.sum_gamerounds.hist(ax=axes[0], color=\"steelblue\", label=\"Total Game Rounds\")\n",
    "\n",
    "# Plot the distribution of Gate 30\n",
    "df_cookie[(df_cookie['version'] == 'gate_30')].hist('sum_gamerounds', ax=axes[1], color=\"steelblue\", label=\"Gate 30 (A)\")\n",
    "\n",
    "# Plot the distribution of Gate 40\n",
    "df_cookie[(df_cookie['version'] == 'gate_40')].hist('sum_gamerounds', ax=axes[2], color=\"steelblue\", label=\"Gate 40 (B)\")\n",
    "\n",
    "# Create a boxplot of the two groups\n",
    "sns.boxplot(x='version', y='sum_gamerounds', data=df_cookie, ax=axes[3], showmeans=True)\n",
    "axes[3].set_xticklabels(['Gate 30', 'Gate 40'])\n",
    "plt.subplots_adjust(bottom=0.25)\n",
    "plt.suptitle('After Removing The Extreme Value', fontsize=20)\n",
    "\n",
    "# Display the plot\n",
    "plt.show()"
   ]
  },
  {
   "cell_type": "markdown",
   "metadata": {
    "pycharm": {
     "name": "#%% md\n"
    }
   },
   "source": [
    "The results suggest that users in the Gate 40 version of the game play more gamerounds on average than users in the Gate 30 version of the game. This is supported by the fact that the median, mean, and interquartile range of the sum_gamerounds column for the Gate 40 version are all higher than the corresponding values for the Gate 30 version."
   ]
  },
  {
   "cell_type": "code",
   "execution_count": 11,
   "metadata": {
    "pycharm": {
     "name": "#%%\n"
    }
   },
   "outputs": [
    {
     "data": {
      "image/png": "[encoded data removed]",
      "text/plain": [
       "<Figure size 1440x360 with 1 Axes>"
      ]
     },
     "metadata": {
      "needs_background": "light"
     },
     "output_type": "display_data"
    }
   ],
   "source": [
    "# Plot the sum_gamerounds for each group with different alpha values\n",
    "df_cookie[(df_cookie['version'] == 'gate_30')].reset_index().set_index(\"index\").sum_gamerounds.plot(\n",
    "    legend=True, label=\"Gate 30\", figsize=(20, 5), title=\"After Removing The Extreme Value\", alpha=1\n",
    ")\n",
    "df_cookie[(df_cookie['version'] == 'gate_40')].reset_index().set_index(\"index\").sum_gamerounds.plot(\n",
    "    legend=True, label=\"Gate 40\", alpha=0.8\n",
    ")\n",
    "\n",
    "plt.subplots_adjust(bottom=0.2)\n",
    "\n",
    "# Display the plot\n",
    "plt.show()"
   ]
  },
  {
   "cell_type": "markdown",
   "metadata": {
    "pycharm": {
     "name": "#%% md\n"
    }
   },
   "source": [
    "The plot suggest that users in the Gate 40 version of the game play more gamerounds on average than users in the Gate 30 version of the game. However, the results also suggest that there is a lot of variation in the number of gamerounds played by users in both versions of the game.\n",
    "\n",
    "Additional comments:\n",
    "\n",
    "* The alpha value of a line plot controls the transparency of the line. An alpha value of 1 means that the line is completely opaque, while an alpha value of 0 means that the line is completely transparent.\n",
    "* Plotting the Gate 40 line with a slightly lower alpha(0.8) value makes it easier to see the overlap between the two distributions. This is because the transparent line allows us to see the Gate 30 line underneath it."
   ]
  },
  {
   "cell_type": "markdown",
   "metadata": {
    "pycharm": {
     "name": "#%% md\n"
    }
   },
   "source": [
    "## Findings from EDA\n",
    "Results:\n",
    "- A large proportion of users who install the game never play it (3994 users).\n",
    "- The number of users decreases as the levels progress.\n",
    "- Most users play the game at the early stage and then churn out.\n",
    "\n",
    "These results suggest that Tactile Entertainment needs to improve player retention. They can do this by researching and collecting data about the game and users, and by implementing measures such as gifts and reduced difficulty."
   ]
  },
  {
   "cell_type": "code",
   "execution_count": 12,
   "metadata": {
    "pycharm": {
     "name": "#%%\n"
    }
   },
   "outputs": [
    {
     "data": {
      "image/png": "[encoded data removed]",
      "text/plain": [
       "<Figure size 1800x720 with 2 Axes>"
      ]
     },
     "metadata": {
      "needs_background": "light"
     },
     "output_type": "display_data"
    }
   ],
   "source": [
    "# Plot the number of users in each game round for all game rounds\n",
    "fig, axes = plt.subplots(2, 1, figsize = (25,10))\n",
    "df_cookie.groupby(\"sum_gamerounds\").userid.count().plot(ax = axes[0])\n",
    "df_cookie.groupby(\"sum_gamerounds\").userid.count()[:200].plot(ax = axes[1])\n",
    "plt.suptitle(\"The number of users in the game rounds played\", fontsize = 25)\n",
    "axes[0].set_title(\"How many users are there all game rounds?\", fontsize = 15)\n",
    "axes[1].set_title(\"How many users are there first 200 game rounds?\", fontsize = 15)\n",
    "plt.tight_layout(pad=5);"
   ]
  },
  {
   "cell_type": "markdown",
   "metadata": {
    "pycharm": {
     "name": "#%% md\n"
    }
   },
   "source": [
    "The plot shows the number of users in the game rounds played. The top plot shows the distribution of the number of users across all game rounds, while the bottom plot shows the distribution of the number of users in the first 200 game rounds."
   ]
  },
  {
   "cell_type": "code",
   "execution_count": 13,
   "metadata": {
    "pycharm": {
     "name": "#%%\n"
    }
   },
   "outputs": [
    {
     "data": {
      "text/html": [
       "<div>\n",
       "<style scoped>\n",
       "    .dataframe tbody tr th:only-of-type {\n",
       "        vertical-align: middle;\n",
       "    }\n",
       "\n",
       "    .dataframe tbody tr th {\n",
       "        vertical-align: top;\n",
       "    }\n",
       "\n",
       "    .dataframe thead th {\n",
       "        text-align: right;\n",
       "    }\n",
       "</style>\n",
       "<table border=\"1\" class=\"dataframe\">\n",
       "  <thead>\n",
       "    <tr style=\"text-align: right;\">\n",
       "      <th></th>\n",
       "      <th>sum_gamerounds</th>\n",
       "      <th>userid</th>\n",
       "    </tr>\n",
       "  </thead>\n",
       "  <tbody>\n",
       "    <tr>\n",
       "      <td>0</td>\n",
       "      <td>0</td>\n",
       "      <td>3994</td>\n",
       "    </tr>\n",
       "    <tr>\n",
       "      <td>1</td>\n",
       "      <td>1</td>\n",
       "      <td>5538</td>\n",
       "    </tr>\n",
       "    <tr>\n",
       "      <td>2</td>\n",
       "      <td>2</td>\n",
       "      <td>4606</td>\n",
       "    </tr>\n",
       "    <tr>\n",
       "      <td>3</td>\n",
       "      <td>3</td>\n",
       "      <td>3958</td>\n",
       "    </tr>\n",
       "    <tr>\n",
       "      <td>4</td>\n",
       "      <td>4</td>\n",
       "      <td>3629</td>\n",
       "    </tr>\n",
       "    <tr>\n",
       "      <td>5</td>\n",
       "      <td>5</td>\n",
       "      <td>2992</td>\n",
       "    </tr>\n",
       "    <tr>\n",
       "      <td>6</td>\n",
       "      <td>6</td>\n",
       "      <td>2861</td>\n",
       "    </tr>\n",
       "    <tr>\n",
       "      <td>7</td>\n",
       "      <td>7</td>\n",
       "      <td>2379</td>\n",
       "    </tr>\n",
       "    <tr>\n",
       "      <td>8</td>\n",
       "      <td>8</td>\n",
       "      <td>2267</td>\n",
       "    </tr>\n",
       "    <tr>\n",
       "      <td>9</td>\n",
       "      <td>9</td>\n",
       "      <td>2013</td>\n",
       "    </tr>\n",
       "    <tr>\n",
       "      <td>10</td>\n",
       "      <td>10</td>\n",
       "      <td>1752</td>\n",
       "    </tr>\n",
       "    <tr>\n",
       "      <td>11</td>\n",
       "      <td>11</td>\n",
       "      <td>1654</td>\n",
       "    </tr>\n",
       "    <tr>\n",
       "      <td>12</td>\n",
       "      <td>12</td>\n",
       "      <td>1570</td>\n",
       "    </tr>\n",
       "    <tr>\n",
       "      <td>13</td>\n",
       "      <td>13</td>\n",
       "      <td>1594</td>\n",
       "    </tr>\n",
       "    <tr>\n",
       "      <td>14</td>\n",
       "      <td>14</td>\n",
       "      <td>1519</td>\n",
       "    </tr>\n",
       "    <tr>\n",
       "      <td>15</td>\n",
       "      <td>15</td>\n",
       "      <td>1446</td>\n",
       "    </tr>\n",
       "    <tr>\n",
       "      <td>16</td>\n",
       "      <td>16</td>\n",
       "      <td>1342</td>\n",
       "    </tr>\n",
       "    <tr>\n",
       "      <td>17</td>\n",
       "      <td>17</td>\n",
       "      <td>1269</td>\n",
       "    </tr>\n",
       "    <tr>\n",
       "      <td>18</td>\n",
       "      <td>18</td>\n",
       "      <td>1228</td>\n",
       "    </tr>\n",
       "    <tr>\n",
       "      <td>19</td>\n",
       "      <td>19</td>\n",
       "      <td>1158</td>\n",
       "    </tr>\n",
       "  </tbody>\n",
       "</table>\n",
       "</div>"
      ],
      "text/plain": [
       "    sum_gamerounds  userid\n",
       "0                0    3994\n",
       "1                1    5538\n",
       "2                2    4606\n",
       "3                3    3958\n",
       "4                4    3629\n",
       "5                5    2992\n",
       "6                6    2861\n",
       "7                7    2379\n",
       "8                8    2267\n",
       "9                9    2013\n",
       "10              10    1752\n",
       "11              11    1654\n",
       "12              12    1570\n",
       "13              13    1594\n",
       "14              14    1519\n",
       "15              15    1446\n",
       "16              16    1342\n",
       "17              17    1269\n",
       "18              18    1228\n",
       "19              19    1158"
      ]
     },
     "execution_count": 13,
     "metadata": {},
     "output_type": "execute_result"
    }
   ],
   "source": [
    "# Group and count users by sum_gamerounds, top 20\n",
    "df_cookie.groupby(\"sum_gamerounds\").userid.count().reset_index().head(20)"
   ]
  },
  {
   "cell_type": "code",
   "execution_count": 14,
   "metadata": {
    "pycharm": {
     "name": "#%%\n"
    }
   },
   "outputs": [
    {
     "data": {
      "text/plain": [
       "sum_gamerounds\n",
       "30    642\n",
       "40    505\n",
       "Name: userid, dtype: int64"
      ]
     },
     "execution_count": 14,
     "metadata": {},
     "output_type": "execute_result"
    }
   ],
   "source": [
    "# no. of users reached gate 30 & gate 40 levels\n",
    "df_cookie.groupby(\"sum_gamerounds\").userid.count().loc[[30,40]]"
   ]
  },
  {
   "cell_type": "markdown",
   "metadata": {
    "pycharm": {
     "name": "#%% md\n"
    }
   },
   "source": [
    "The summary statistics show that the control and test groups appear to be similar, but we want to know if the difference between the two groups is statistically significant. We will use statistical methods to investigate this."
   ]
  },
  {
   "cell_type": "code",
   "execution_count": 15,
   "metadata": {
    "pycharm": {
     "name": "#%%\n"
    }
   },
   "outputs": [
    {
     "data": {
      "text/html": [
       "<div>\n",
       "<style scoped>\n",
       "    .dataframe tbody tr th:only-of-type {\n",
       "        vertical-align: middle;\n",
       "    }\n",
       "\n",
       "    .dataframe tbody tr th {\n",
       "        vertical-align: top;\n",
       "    }\n",
       "\n",
       "    .dataframe thead th {\n",
       "        text-align: right;\n",
       "    }\n",
       "</style>\n",
       "<table border=\"1\" class=\"dataframe\">\n",
       "  <thead>\n",
       "    <tr style=\"text-align: right;\">\n",
       "      <th></th>\n",
       "      <th>count</th>\n",
       "      <th>median</th>\n",
       "      <th>mean</th>\n",
       "      <th>std</th>\n",
       "      <th>max</th>\n",
       "    </tr>\n",
       "    <tr>\n",
       "      <th>version</th>\n",
       "      <th></th>\n",
       "      <th></th>\n",
       "      <th></th>\n",
       "      <th></th>\n",
       "      <th></th>\n",
       "    </tr>\n",
       "  </thead>\n",
       "  <tbody>\n",
       "    <tr>\n",
       "      <td>gate_30</td>\n",
       "      <td>44699</td>\n",
       "      <td>17</td>\n",
       "      <td>51.3421</td>\n",
       "      <td>102.0576</td>\n",
       "      <td>2961</td>\n",
       "    </tr>\n",
       "    <tr>\n",
       "      <td>gate_40</td>\n",
       "      <td>45489</td>\n",
       "      <td>16</td>\n",
       "      <td>51.2988</td>\n",
       "      <td>103.2944</td>\n",
       "      <td>2640</td>\n",
       "    </tr>\n",
       "  </tbody>\n",
       "</table>\n",
       "</div>"
      ],
      "text/plain": [
       "         count  median    mean      std   max\n",
       "version                                      \n",
       "gate_30  44699      17 51.3421 102.0576  2961\n",
       "gate_40  45489      16 51.2988 103.2944  2640"
      ]
     },
     "execution_count": 15,
     "metadata": {},
     "output_type": "execute_result"
    }
   ],
   "source": [
    "# A/B Groups & Target Summary Stats\n",
    "df_cookie.groupby(\"version\").sum_gamerounds.agg([\"count\", \"median\", \"mean\", \"std\", \"max\"])"
   ]
  },
  {
   "cell_type": "markdown",
   "metadata": {
    "pycharm": {
     "name": "#%% md\n"
    }
   },
   "source": [
    "Retention variables, such as retention_1 and retention_7, tell us how many players came back to play the game after 1 and 7 days of installation, respectively. However, the retention rate is low, with 55% of players not playing the game after 1 day and 81% not playing after 7 days."
   ]
  },
  {
   "cell_type": "code",
   "execution_count": 16,
   "metadata": {
    "pycharm": {
     "name": "#%%\n"
    }
   },
   "outputs": [
    {
     "name": "stdout",
     "output_type": "stream",
     "text": [
      "       RET1_COUNT  RET7_COUNT  RET1_RATIO  RET7_RATIO\n",
      "False       50035       73408      0.5548      0.8139\n",
      "True        40153       16780      0.4452      0.1861\n"
     ]
    }
   ],
   "source": [
    "# Calculate the number of users who retained for 1 day and 7 days\n",
    "ret1_count = df_cookie[\"retention_1\"].value_counts()\n",
    "ret7_count = df_cookie[\"retention_7\"].value_counts()\n",
    "\n",
    "# Calculate the retention rate for each group\n",
    "ret1_ratio = ret1_count / len(df_cookie)\n",
    "ret7_ratio = ret7_count / len(df_cookie)\n",
    "\n",
    "# Create a DataFrame to show the results\n",
    "df = pd.DataFrame({\"RET1_COUNT\": ret1_count,\n",
    "                   \"RET7_COUNT\": ret7_count,\n",
    "                   \"RET1_RATIO\": ret1_ratio,\n",
    "                   \"RET7_RATIO\": ret7_ratio})\n",
    "\n",
    "# Print the DataFrame\n",
    "print(df)"
   ]
  },
  {
   "cell_type": "markdown",
   "metadata": {
    "pycharm": {
     "name": "#%% md\n"
    }
   },
   "source": [
    "The summary statistics of retention variables by version and sum_gamerounds show that the groups are similar. However, it is important to conduct a statistical test to determine if the difference between the groups is statistically significant, meaning that it is unlikely to have occurred by chance."
   ]
  },
  {
   "cell_type": "code",
   "execution_count": 17,
   "metadata": {
    "pycharm": {
     "name": "#%%\n"
    }
   },
   "outputs": [
    {
     "name": "stdout",
     "output_type": "stream",
     "text": [
      "                     count  median    mean      std   max\n",
      "version retention_1                                      \n",
      "gate_30 False        24665       6 16.3591  36.5284  1072\n",
      "        True         20034      48 94.4117 135.0377  2961\n",
      "gate_40 False        25370       6 16.3404  35.9258  1241\n",
      "        True         20119      49 95.3812 137.8873  2640\n"
     ]
    }
   ],
   "source": [
    "# Group the DataFrame by version and retention status for 1 day\n",
    "grouped_df = df_cookie.groupby([\"version\", \"retention_1\"])\n",
    "\n",
    "# Calculate the summary statistics for each group\n",
    "summary_stats = grouped_df[\"sum_gamerounds\"].agg([\"count\", \"median\", \"mean\", \"std\", \"max\"])\n",
    "\n",
    "# Print the summary statistics\n",
    "print(summary_stats)"
   ]
  },
  {
   "cell_type": "code",
   "execution_count": 18,
   "metadata": {
    "pycharm": {
     "name": "#%%\n"
    }
   },
   "outputs": [
    {
     "name": "stdout",
     "output_type": "stream",
     "text": [
      "                     count  median     mean      std   max\n",
      "version retention_7                                       \n",
      "gate_30 False        36198      11  25.7965  43.3162   981\n",
      "        True          8501     105 160.1175 179.3586  2961\n",
      "gate_40 False        37210      11  25.8564  44.4061  2640\n",
      "        True          8279     111 165.6498 183.7925  2294\n"
     ]
    }
   ],
   "source": [
    "# Group the DataFrame by version and retention status for 7 days\n",
    "grouped_df = df_cookie.groupby([\"version\", \"retention_7\"])\n",
    "\n",
    "# Calculate the summary statistics for each group\n",
    "summary_stats = grouped_df[\"sum_gamerounds\"].agg([\"count\", \"median\", \"mean\", \"std\", \"max\"])\n",
    "\n",
    "# Print the summary statistics\n",
    "print(summary_stats)"
   ]
  },
  {
   "cell_type": "markdown",
   "metadata": {
    "pycharm": {
     "name": "#%% md\n"
    }
   },
   "source": [
    "When looking at the number of users who came back to play the game 1 day and 7 days after installation, we see similar results. About 12,000 users played the game both 1 day and 7 days after installation, which means that 14% of all users are likely to continue playing the game in the future."
   ]
  },
  {
   "cell_type": "code",
   "execution_count": 19,
   "metadata": {
    "pycharm": {
     "name": "#%%\n"
    }
   },
   "outputs": [
    {
     "name": "stdout",
     "output_type": "stream",
     "text": [
      "                   count  median     mean      std   max\n",
      "version Retention                                       \n",
      "gate_30 0          38023      12  28.0703  48.0175  1072\n",
      "        1           6676     127 183.8863 189.6264  2961\n",
      "gate_40 0          38983      12  28.1034  48.9278  2640\n",
      "        1           6506     133 190.2824 194.2201  2294\n"
     ]
    }
   ],
   "source": [
    "# Add a new column called \"Retention\"\n",
    "df_cookie[\"Retention\"] = np.where((df_cookie[\"retention_1\"] == True) & (df_cookie[\"retention_7\"] == True), 1, 0)\n",
    "\n",
    "# Group the DataFrame by version and retention status\n",
    "grouped_df = df_cookie.groupby([\"version\", \"Retention\"])\n",
    "\n",
    "# Calculate the summary statistics for each group\n",
    "summary_stats = grouped_df[\"sum_gamerounds\"].agg([\"count\", \"median\", \"mean\", \"std\", \"max\"])\n",
    "\n",
    "# Print the summary statistics\n",
    "print(summary_stats)"
   ]
  },
  {
   "cell_type": "code",
   "execution_count": 20,
   "metadata": {
    "pycharm": {
     "name": "#%%\n"
    }
   },
   "outputs": [],
   "source": [
    "# Add a new column called \"NewRetention\"\n",
    "df_cookie[\"NewRetention\"] = list(map(lambda x, y: str(x) + \"-\" + str(y), df_cookie[\"retention_1\"], df_cookie[\"retention_7\"]))"
   ]
  },
  {
   "cell_type": "code",
   "execution_count": 21,
   "metadata": {
    "pycharm": {
     "name": "#%%\n"
    }
   },
   "outputs": [
    {
     "name": "stdout",
     "output_type": "stream",
     "text": [
      "   version NewRetention  count  median     mean      std   max\n",
      "0  gate_30  False-False  22840       6  11.8197  21.6426   981\n",
      "1  gate_30   False-True   1825      43  73.1693  93.2223  1072\n",
      "2  gate_30   True-False  13358      33  49.6945  58.1254   918\n",
      "3  gate_30    True-True   6676     127 183.8863 189.6264  2961\n",
      "4  gate_40  False-False  23597       6  11.9133  20.9010   547\n",
      "5  gate_40   False-True   1773      47  75.2611  94.4780  1241\n",
      "6  gate_40   True-False  13613      32  50.0255  60.9246  2640\n",
      "7  gate_40    True-True   6506     133 190.2824 194.2201  2294\n"
     ]
    }
   ],
   "source": [
    "# Group the DataFrame by version and NewRetention status\n",
    "grouped_df = df_cookie.groupby([\"version\", \"NewRetention\"])\n",
    "\n",
    "# Calculate the summary statistics for each group\n",
    "summary_stats = grouped_df[\"sum_gamerounds\"].agg([\"count\", \"median\", \"mean\", \"std\", \"max\"])\n",
    "\n",
    "# Reset the index of the summary_stats DataFrame\n",
    "summary_stats = summary_stats.reset_index()\n",
    "\n",
    "# Print the summary statistics\n",
    "print(summary_stats)"
   ]
  },
  {
   "cell_type": "markdown",
   "metadata": {
    "pycharm": {
     "name": "#%% md\n"
    }
   },
   "source": [
    "# A/B Testing"
   ]
  },
  {
   "cell_type": "markdown",
   "metadata": {
    "pycharm": {
     "name": "#%% md\n"
    }
   },
   "source": [
    "Assumptions:\n",
    "* Check if the data is normally distributed.\n",
    "* If the data is normally distributed, check for homogeneity of variances.\n",
    "\n",
    "Steps:\n",
    "* Split the data into two groups: control group and test group.\n",
    "* Apply the Shapiro test to check for normality.\n",
    "* If the data is parametric (normally distributed and has homogeneous variances), apply the t-test.\n",
    "* If the data is parametric but has heterogeneous variances, apply the Welch test.\n",
    "* If the data is non-parametric (not normally distributed), apply the Mann-Whitney U test."
   ]
  },
  {
   "cell_type": "code",
   "execution_count": 51,
   "metadata": {
    "pycharm": {
     "name": "#%%\n"
    }
   },
   "outputs": [
    {
     "data": {
      "text/html": [
       "<div>\n",
       "<style scoped>\n",
       "    .dataframe tbody tr th:only-of-type {\n",
       "        vertical-align: middle;\n",
       "    }\n",
       "\n",
       "    .dataframe tbody tr th {\n",
       "        vertical-align: top;\n",
       "    }\n",
       "\n",
       "    .dataframe thead th {\n",
       "        text-align: right;\n",
       "    }\n",
       "</style>\n",
       "<table border=\"1\" class=\"dataframe\">\n",
       "  <thead>\n",
       "    <tr style=\"text-align: right;\">\n",
       "      <th></th>\n",
       "      <th>userid</th>\n",
       "      <th>version</th>\n",
       "      <th>sum_gamerounds</th>\n",
       "      <th>retention_1</th>\n",
       "      <th>retention_7</th>\n",
       "      <th>Retention</th>\n",
       "      <th>NewRetention</th>\n",
       "    </tr>\n",
       "  </thead>\n",
       "  <tbody>\n",
       "    <tr>\n",
       "      <th>0</th>\n",
       "      <td>116</td>\n",
       "      <td>A</td>\n",
       "      <td>3</td>\n",
       "      <td>False</td>\n",
       "      <td>False</td>\n",
       "      <td>0</td>\n",
       "      <td>False-False</td>\n",
       "    </tr>\n",
       "    <tr>\n",
       "      <th>1</th>\n",
       "      <td>337</td>\n",
       "      <td>A</td>\n",
       "      <td>38</td>\n",
       "      <td>True</td>\n",
       "      <td>False</td>\n",
       "      <td>0</td>\n",
       "      <td>True-False</td>\n",
       "    </tr>\n",
       "    <tr>\n",
       "      <th>2</th>\n",
       "      <td>377</td>\n",
       "      <td>B</td>\n",
       "      <td>165</td>\n",
       "      <td>True</td>\n",
       "      <td>False</td>\n",
       "      <td>0</td>\n",
       "      <td>True-False</td>\n",
       "    </tr>\n",
       "    <tr>\n",
       "      <th>3</th>\n",
       "      <td>483</td>\n",
       "      <td>B</td>\n",
       "      <td>1</td>\n",
       "      <td>False</td>\n",
       "      <td>False</td>\n",
       "      <td>0</td>\n",
       "      <td>False-False</td>\n",
       "    </tr>\n",
       "    <tr>\n",
       "      <th>4</th>\n",
       "      <td>488</td>\n",
       "      <td>B</td>\n",
       "      <td>179</td>\n",
       "      <td>True</td>\n",
       "      <td>True</td>\n",
       "      <td>1</td>\n",
       "      <td>True-True</td>\n",
       "    </tr>\n",
       "  </tbody>\n",
       "</table>\n",
       "</div>"
      ],
      "text/plain": [
       "   userid version  sum_gamerounds  retention_1  retention_7  Retention  \\\n",
       "0     116       A               3        False        False          0   \n",
       "1     337       A              38         True        False          0   \n",
       "2     377       B             165         True        False          0   \n",
       "3     483       B               1        False        False          0   \n",
       "4     488       B             179         True         True          1   \n",
       "\n",
       "  NewRetention  \n",
       "0  False-False  \n",
       "1   True-False  \n",
       "2   True-False  \n",
       "3  False-False  \n",
       "4    True-True  "
      ]
     },
     "execution_count": 51,
     "metadata": {},
     "output_type": "execute_result"
    }
   ],
   "source": [
    "# Define A/B groups\n",
    "df_cookie[\"version\"] = np.where(df_cookie.version == \"gate_30\", \"A\", \"B\")\n",
    "\n",
    "# Print the first five rows of the DataFrame\n",
    "df_cookie.head()"
   ]
  },
  {
   "cell_type": "code",
   "execution_count": 52,
   "metadata": {
    "pycharm": {
     "name": "#%%\n"
    }
   },
   "outputs": [
    {
     "name": "stdout",
     "output_type": "stream",
     "text": [
      "# A/B Testing Hypothesis\n",
      "H0: A == B\n",
      "H1: A != B \n",
      "\n",
      "        Test Type      AB Hypothesis  p-value                      Comment\n",
      "0  Non-Parametric  Fail to reject H0   0.0509  A/B groups are not similar!\n"
     ]
    }
   ],
   "source": [
    "def AB_Test(dataframe, group, target):\n",
    "\n",
    "    # Split A/B\n",
    "    groupA = dataframe[dataframe[group] == \"A\"][target]\n",
    "    groupB = dataframe[dataframe[group] == \"B\"][target]\n",
    "\n",
    "    # Assumption: Normality\n",
    "    ntA = shapiro(groupA)[1] < 0.05\n",
    "    ntB = shapiro(groupB)[1] < 0.05\n",
    "\n",
    "    # Assumption: Homogeneity of variances\n",
    "    leveneTest = stats.levene(groupA, groupB)[1] < 0.05\n",
    "\n",
    "    # Select statistical test\n",
    "    if (ntA == False) & (ntB == False):\n",
    "        if leveneTest == False:\n",
    "            # Parametric test\n",
    "            ttest = stats.ttest_ind(groupA, groupB, equal_var=True)[1]\n",
    "        else:\n",
    "            # Non-parametric test\n",
    "            ttest = stats.ttest_ind(groupA, groupB, equal_var=False)[1]\n",
    "    else:\n",
    "        # Non-parametric test\n",
    "        ttest = stats.mannwhitneyu(groupA, groupB)[1]\n",
    "\n",
    "    # Interpret results\n",
    "    temp = pd.DataFrame({\n",
    "        \"AB Hypothesis\": [ttest < 0.05],\n",
    "        \"p-value\": [ttest]\n",
    "    })\n",
    "    temp[\"Test Type\"] = np.where((ntA == False) & (ntB == False), \"Parametric\", \"Non-Parametric\")\n",
    "    temp[\"AB Hypothesis\"] = np.where(temp[\"AB Hypothesis\"] == False, \"Fail to reject H0\", \"Reject H0\")\n",
    "    temp[\"Comment\"] = np.where(temp[\"AB Hypothesis\"] == \"Fail to Reject H0\", \"A/B groups are similar!\", \"A/B groups are not similar!\")\n",
    "\n",
    "    # Columns\n",
    "    if (ntA == False) & (ntB == False):\n",
    "        temp[\"Homogeneity\"] = np.where(leveneTest == False, \"Yes\", \"No\")\n",
    "        temp = temp[[\"Test Type\", \"Homogeneity\", \"AB Hypothesis\", \"p-value\", \"Comment\"]]\n",
    "    else:\n",
    "        temp = temp[[\"Test Type\", \"AB Hypothesis\", \"p-value\", \"Comment\"]]\n",
    "\n",
    "    # Print Hypothesis\n",
    "    print(\"# A/B Testing Hypothesis\")\n",
    "    print(\"H0: A == B\")\n",
    "    print(\"H1: A != B\", \"\\n\")\n",
    "\n",
    "    # Return results\n",
    "    return temp\n",
    "\n",
    "# Apply A/B testing\n",
    "results = AB_Test(dataframe=df_cookie, group=\"version\", target=\"sum_gamerounds\")\n",
    "\n",
    "# Print results\n",
    "print(results)"
   ]
  },
  {
   "cell_type": "markdown",
   "metadata": {
    "pycharm": {
     "name": "#%% md\n"
    }
   },
   "source": [
    "In this project, we analyzed an A/B test where the first gate in Cookie Cats was moved from level 30 to level 40 to see how it would affect player retention and game rounds. We started by investigating the data and found that there were no missing values, but there was one outlier. We then used summary statistics and plots to understand the data and the problem.\n",
    "\n",
    "Before running the A/B test, we shared some details about the game, players, problems, and suggestions. After running the test, we analyzed the results and found that the Shapiro test rejected the null hypothesis for normality. This means that the data is not normally distributed, so we needed to use a non-parametric test, such as the Mann-Whitney U test, to compare the two groups.\n",
    "\n",
    "The Mann-Whitney U test rejected the null hypothesis, which means that the two groups are not similar. In other words, there is a statistically significant difference between the two groups in terms of game rounds.\n",
    "\n",
    "Briefly, moving the first gate from level 30 to level 40 had a statistically significant impact on game rounds."
   ]
  },
  {
   "cell_type": "markdown",
   "metadata": {
    "pycharm": {
     "name": "#%% md\n"
    }
   },
   "source": [
    "### Which level has more advantages in terms of player retention?"
   ]
  },
  {
   "cell_type": "code",
   "execution_count": 53,
   "metadata": {
    "pycharm": {
     "name": "#%%\n"
    }
   },
   "outputs": [
    {
     "name": "stdout",
     "output_type": "stream",
     "text": [
      "version\n",
      "A   0.4482\n",
      "B   0.4423\n",
      "Name: retention_1, dtype: float64\n",
      "version\n",
      "A   0.1902\n",
      "B   0.1820\n",
      "Name: retention_7, dtype: float64\n"
     ]
    }
   ],
   "source": [
    "# Calculate the mean retention rate for 1 day and 7 days for each version\n",
    "mean_retention_1 = df_cookie.groupby(\"version\").retention_1.mean()\n",
    "mean_retention_7 = df_cookie.groupby(\"version\").retention_7.mean()\n",
    "\n",
    "# Print the results\n",
    "print(mean_retention_1)\n",
    "print(mean_retention_7)"
   ]
  },
  {
   "cell_type": "markdown",
   "metadata": {
    "pycharm": {
     "name": "#%% md\n"
    }
   },
   "source": [
    "Based on the information provided, having the first gate at level 30 has more advantages in terms of player retention. This is because 1-day and 7-day average retention are both higher when the gate is at level 30 than when it is at level 40.\n",
    "\n",
    "There are a few possible explanations for this. One possibility is that players are more likely to get hooked on the game if they can play for a longer period of time before encountering the first gate. Another possibility is that players are more likely to come back and play the game if they know that they are making progress towards the next gate"
   ]
  }
 ],
 "metadata": {
  "kernelspec": {
   "display_name": "Python 3",
   "language": "python",
   "name": "python3"
  },
  "language_info": {
   "codemirror_mode": {
    "name": "ipython",
    "version": 3
   },
   "file_extension": ".py",
   "mimetype": "text/x-python",
   "name": "python",
   "nbconvert_exporter": "python",
   "pygments_lexer": "ipython3",
   "version": "3.7.4"
  }
 },
 "nbformat": 4,
 "nbformat_minor": 1
}
